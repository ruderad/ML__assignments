{
 "cells": [
  {
   "cell_type": "code",
   "execution_count": 488,
   "id": "0e1e542f",
   "metadata": {},
   "outputs": [],
   "source": [
    "import numpy as np\n",
    "import pandas as pd\n",
    "import mne\n",
    "import os\n",
    "import glob\n",
    "import random\n",
    "import matplotlib.pyplot as plt\n",
    "import seaborn as sns\n",
    "from scipy import signal\n",
    "from sklearn.model_selection import train_test_split\n",
    "from sklearn.svm import SVC\n",
    "from scipy.stats import ttest_1samp\n",
    "from sklearn.model_selection import StratifiedKFold, GridSearchCV\n",
    "from sklearn.neighbors import KNeighborsClassifier , RadiusNeighborsClassifier\n",
    "from sklearn.tree import DecisionTreeClassifier\n",
    "from sklearn.naive_bayes import GaussianNB\n",
    "from sklearn.neural_network import MLPClassifier\n",
    "from sklearn.metrics import confusion_matrix, ConfusionMatrixDisplay \n",
    "\n",
    "import math \n"
   ]
  },
  {
   "cell_type": "code",
   "execution_count": 280,
   "id": "da972051",
   "metadata": {},
   "outputs": [
    {
     "data": {
      "text/plain": [
       "5"
      ]
     },
     "execution_count": 280,
     "metadata": {},
     "output_type": "execute_result"
    }
   ],
   "source": [
    "len(np.sort(glob.glob(sub3_s)))"
   ]
  },
  {
   "cell_type": "code",
   "execution_count": 332,
   "id": "ffd825d5",
   "metadata": {},
   "outputs": [],
   "source": [
    "def seizure_data_loader(data_folder_path, onset):\n",
    "    \"\"\"takes a data_folder_path (string) and onset (array-like) as inputs and returns an array of EEG signals that \n",
    "    contains 9 minutes prior to the seizure\"\"\"\n",
    "    \n",
    "    files   = np.sort(glob.glob(data_folder_path))\n",
    "    start_time = [i-600 for i in onset]\n",
    "    end_time = [j+544 for j in start_time]\n",
    "    seizure_data = []\n",
    "\n",
    "    \n",
    "    #we iterate thorough each file that has seizure event in it. in the loop we crop, filter, and epoch the data based on the parameters that we defined in the previous block\n",
    "    print(range(len(files)))\n",
    "    for i in range(len(files)):\n",
    "    #read raw EDF file\n",
    "        raw = mne.io.read_raw_edf(files[i],preload=True,verbose=False)\n",
    "        print(i)\n",
    "        print(f'duration:{raw.times[-1]}')\n",
    "        print(f'start: {start_time[i]}')\n",
    "        print(f'end: {end_time[i]}')\n",
    "    # crop the data to the selected time window\n",
    "        raw.crop(tmin=start_time[i], tmax=end_time[i])\n",
    "    # Apply the filter\n",
    "        raw.filter(l_freq=32,h_freq=120,method='fir',fir_window='hamming',verbose=False)\n",
    "    \n",
    "    # Convert the epoched data to a NumPy array and append it to the list\n",
    "        seizure_data.append(raw.get_data())            \n",
    "    return np.asarray(seizure_data)\n",
    "\n",
    "\n",
    "\n",
    "def nonseizure_data_loader(data_folder_path, number_of_samples):\n",
    "    \"\"\"take data_folder_path which should contain only one non_seizure files. number_of_samples is an integer that should\n",
    "    match the number of samples in the seizure array\"\"\"\n",
    "    file   = glob.glob(data_folder_path)\n",
    "    raw = mne.io.read_raw_edf(file[0],preload=False,verbose=False)\n",
    "    duration_sec = int(raw.times[-1])\n",
    "    non_seizure_data = []\n",
    "    onset  = np.sort(random.sample(range(600,duration_sec-544), number_of_samples))\n",
    "    start_time = [i-600 for i in onset]\n",
    "    end_time = [j+544 for j in start_time]\n",
    "    \n",
    "    for i in range(onset.shape[0]):\n",
    "        raw = mne.io.read_raw_edf(file[0],preload=True,verbose=False)\n",
    "        raw.crop(tmin=start_time[i], tmax=end_time[i])\n",
    "        raw.filter(l_freq=32,h_freq=120,method='fir',fir_window='hamming',verbose=False)\n",
    "        \n",
    "        non_seizure_data.append(raw.get_data())\n",
    "    return np.asarray(non_seizure_data)\n",
    "\n",
    "\n",
    "\n",
    "def concat_and_label(seizure_array,non_seizure_array):\n",
    "    X = np.concatenate((seizure_array, non_seizure_array), axis=0)\n",
    "    # Create an array of labels for the seizure data (1 for seizure, 0 for non-seizure)\n",
    "    num_seizure_epochs = seizure_array.shape[0]\n",
    "    num_non_seizure_epochs = non_seizure_array.shape[0]\n",
    "    seizure_labels = np.ones(num_seizure_epochs)\n",
    "    non_seizure_labels = np.zeros(num_non_seizure_epochs)\n",
    "    labels = np.concatenate((seizure_labels, non_seizure_labels), axis=0)\n",
    "    return X , labels \n",
    "\n",
    "\n",
    "def epoching_function(data, sample_of_choice ,epoch_length, overlap, sfreq):\n",
    "    \"\"\" trims the data into epochs, with the sampling frequency.\n",
    "    inputs:\n",
    "    data: accepts a 3D array with the shape of (n_samples,n_channels,n_timepoints)\n",
    "    sample_of_choice: a number between 0 to 5 to choose the sample for epoching \n",
    "    epoch_length: length of each epoch in seconds\n",
    "    overlap: overlap as a fraction of epoch length \n",
    "    sfreq: sampling frequency\n",
    "    \"\"\"\n",
    "    n_samples, n_channels, n_timepoints = data.shape\n",
    "    n_samples_per_epoch = int(epoch_length * sfreq)\n",
    "    n_overlap_samples = int(overlap * n_samples_per_epoch)\n",
    "    epoch_starts = np.arange(0, n_timepoints-n_samples_per_epoch, n_samples_per_epoch - n_overlap_samples)\n",
    "    epoch_ends = epoch_starts + n_samples_per_epoch\n",
    "    \n",
    "    \n",
    "    sample = data[sample_of_choice]\n",
    "    epochs_with_overlap = []\n",
    "    \n",
    "    for j in range(len(epoch_starts)):\n",
    "        epch = sample[:,epoch_starts[j]:epoch_ends[j]]\n",
    "        epochs_with_overlap.append(epch)\n",
    "    epochs_with_overlap = np.array(epochs_with_overlap)\n",
    "    print(f\"\"\"Original data had {data.shape[0]} samples. Sample number {sample_of_choice} was segmented into\n",
    "{epoch_length} seconds epochs with {overlap*100}% overlap. \\n Shape of the output:{epochs_with_overlap.shape} \"\"\")\n",
    "    return epochs_with_overlap \n",
    "\n",
    "\n",
    "def feature_extractor(data):\n",
    "    \"\"\"takes the raw data with the shape of (n_samples, n_channels, n_epochs, n_timepoints) and returns \"\"\"\n",
    "    sfreq = 256\n",
    "    freqs, psd = signal.welch(data, sfreq, nperseg=512)\n",
    "\n",
    "\n",
    "    # Compute the Shannon entropy of the PSD estimates\n",
    "    entropy = -np.sum(psd * np.log2(psd), axis=-1)\n",
    "\n",
    "    # Calculate the mean, std, min, and max of each epoch\n",
    "    epoch_mean = np.mean(data, axis=-1)\n",
    "    epoch_std = np.std(data, axis=-1)\n",
    "    epoch_min = np.min(data, axis=-1)\n",
    "    epoch_max = np.max(data, axis=-1)\n",
    "\n",
    "    # Concatenate all features to create the feature matrix\n",
    "    feature_matrix = np.concatenate((entropy,epoch_mean, epoch_std, epoch_min, epoch_max), axis=-1)\n",
    "    feature_matrix = feature_matrix.reshape((feature_matrix.shape[0],-1))\n",
    "    print(f\"\"\"SHAPE OF RAW DATA: n_samples, n_channels, n_epochs, n_timepoints = {data.shape}\\n\n",
    "    SHAPE OF FEATURE MATRIX: n_samples, n_features * n_channels * n_epochs = {feature_matrix.shape}\"\"\")\n",
    "    return feature_matrix\n",
    "\n",
    "\n",
    "def feature_selector(feature_matrix):\n",
    "    \"\"\"takes the feature matrix, performs 1 sample t-test to determine the significant features (p < 0.001).\n",
    "    returns an array that contains significant features\"\"\"\n",
    "    p_values = ttest_1samp(feature_matrix, popmean=0)[1]\n",
    "    significant_features = np.where(p_values < 0.001)[0]\n",
    "    selected_features = feature_matrix[:, significant_features]\n",
    "    print(f'final feature shape {selected_features.shape} \\nraw feature shape {feature_matrix.shape}')\n",
    "    return(selected_features)\n",
    "\n",
    "\n",
    "def sample_permuter (epochs_with_overlap,epoch_length=16,overlap=0.5):\n",
    "    \"\"\"takes the epoched data (output of epoching_function) as input and returns 36 epochs from the original data\n",
    "    that are evenly distributed across all the recording minutes.\"\"\"\n",
    "    permuted_epochs = []\n",
    "    # Calculate the number of epochs per minute\n",
    "    epochs_per_minute = int(60 / (epoch_length - (overlap * epoch_length)))\n",
    "\n",
    "    # Initialize the new array to store the selected epochs\n",
    "    selected_epochs = np.zeros((34, 23, 4096))\n",
    "\n",
    "    # Loop through the 9 minutes\n",
    "    for minute in range(9):\n",
    "        # Calculate the start and end indices for the current minute's epochs\n",
    "        start_idx = minute * epochs_per_minute\n",
    "        end_idx = start_idx + epochs_per_minute\n",
    "\n",
    "        # Randomly select 4 epoch indices from the current minute's epochs\n",
    "        selected_epoch_indices = random.sample(range(start_idx, end_idx), 4)\n",
    "\n",
    "        # Copy the selected epochs to the new array\n",
    "        for i, epoch_idx in enumerate(selected_epoch_indices):\n",
    "            # Remove the last time point to match the desired shape (4096 instead of 4097)\n",
    "            selected_epoch = epochs_with_overlap[epoch_idx, :, :]\n",
    "            # Save the selected epoch in the new array\n",
    "            selected_epochs[minute * 4] = selected_epoch\n",
    "            permuted_epochs.append(selected_epoch)\n",
    "    return np.array(permuted_epochs)\n",
    "\n",
    "\n",
    "def sample_generator (seizure_array,non_seizure_array,number_of_samples_from_each_overlap):\n",
    "    overlaps = [0.6 , 0.7, 0.8, 0.9]\n",
    "    new_seizure_samples = []\n",
    "    new_ns_samples = []\n",
    "    \n",
    "    for sample_index in range(len(seizure_array)):\n",
    "        for overlap in overlaps:\n",
    "            epochs_with_overlap = epoching_function(seizure_array,sample_index,16,overlap,256)\n",
    "            for i in range(number_of_samples_from_each_overlap):\n",
    "                new_sample = sample_permuter(epochs_with_overlap)\n",
    "                new_seizure_samples.append(new_sample)\n",
    "                \n",
    "                \n",
    "    for sample_index in range(len(non_seizure_array)):\n",
    "        for overlap in overlaps:\n",
    "            epochs_with_overlap = epoching_function(non_seizure_array,sample_index,16,overlap,256)\n",
    "            for i in range(number_of_samples_from_each_overlap):\n",
    "                new_sample = sample_permuter(epochs_with_overlap)\n",
    "                new_ns_samples.append(new_sample)\n",
    "                \n",
    "    new_seizure_samples = np.asarray(new_seizure_samples)\n",
    "    new_ns_samples = np.asarray(new_ns_samples)\n",
    "    \n",
    "    \n",
    "    \n",
    "    num_seizure_epochs = new_seizure_samples.shape[0]\n",
    "    num_non_seizure_epochs = new_ns_samples.shape[0]\n",
    "    seizure_labels = np.ones(num_seizure_epochs)\n",
    "    non_seizure_labels = np.zeros(num_non_seizure_epochs)\n",
    "    X = np.concatenate((new_seizure_samples,new_ns_samples),axis=0)\n",
    "    Y = np.concatenate((seizure_labels, non_seizure_labels), axis=0)\n",
    "    print(f\"SHAPE OF X = {X.shape}\")\n",
    "    return(X,Y)\n",
    "\n",
    "def ass(y_test,y_pred):\n",
    "    \"\"\"takes the y_test and y_pred arrays and return the accuracy, sensitivity, and specificity\"\"\"\n",
    "    tn, fp, fn, tp = confusion_matrix(y_test, y_pred).ravel()\n",
    "    accuracy = (tp+tn)/(tp+tn+fp+fn)\n",
    "    sensitivity = tp / (tp + fn)\n",
    "    specificity = tn / (tn + fp)\n",
    "    print(f\"sensitivity: {sensitivity}\\nspecifity: {specificity}\\naccuracy: {accuracy}\")\n",
    "    return accuracy,sensitivity,specificity\n",
    "\n",
    "\n",
    "def mixture_of_experts(svm, mlp, X):\n",
    "    # Get the prediction probabilities for each model\n",
    "    svm_preds = svm.predict_proba(X)\n",
    "    mlp_preds = mlp.predict_proba(X)\n",
    "\n",
    "    # Compute the weighted average of the prediction probabilities\n",
    "    combined_preds = (svm_preds + mlp_preds) / 2\n",
    "\n",
    "    # Convert the probabilities to class predictions\n",
    "    class_preds = np.argmax(combined_preds, axis=1)\n",
    "\n",
    "    return class_preds\n"
   ]
  },
  {
   "cell_type": "code",
   "execution_count": 13,
   "id": "c61be449",
   "metadata": {},
   "outputs": [],
   "source": [
    "sub1_s = r\"/Users/radmehr/Desktop/Darsi/01_phd/semester2/02- Machine Learning/Assignments/05_Epileptic_Seizure_Detection/data/subject1/WS1/*\"\n",
    "sub1_ns = r\"/Users/radmehr/Desktop/Darsi/01_phd/semester2/02- Machine Learning/Assignments/05_Epileptic_Seizure_Detection/data/subject1/WOS1/*\"\n",
    "sub3_s = r\"/Users/radmehr/Desktop/Darsi/01_phd/semester2/02- Machine Learning/Assignments/05_Epileptic_Seizure_Detection/data/subject3/WS3/*\"\n",
    "sub3_ns = r\"/Users/radmehr/Desktop/Darsi/01_phd/semester2/02- Machine Learning/Assignments/05_Epileptic_Seizure_Detection/data/subject3/WOS3/*\"\n",
    "sub5_s = r\"/Users/radmehr/Desktop/Darsi/01_phd/semester2/02- Machine Learning/Assignments/05_Epileptic_Seizure_Detection/data/subject5/WS5/*\"\n",
    "sub5_ns = r\"/Users/radmehr/Desktop/Darsi/01_phd/semester2/02- Machine Learning/Assignments/05_Epileptic_Seizure_Detection/data/subject5/WOS5/*\"\n",
    "sub14_s = r\"/Users/radmehr/Desktop/Darsi/01_phd/semester2/02- Machine Learning/Assignments/05_Epileptic_Seizure_Detection/data/subject14/WS14/*\"\n",
    "sub14_ns = r\"/Users/radmehr/Desktop/Darsi/01_phd/semester2/02- Machine Learning/Assignments/05_Epileptic_Seizure_Detection/data/subject14/WOS14/*\""
   ]
  },
  {
   "cell_type": "code",
   "execution_count": 14,
   "id": "da07442a",
   "metadata": {},
   "outputs": [],
   "source": [
    "onset_1 = np.array([2996, 1467, 1732, 1015, 1720, 1864])\n",
    "onset_3 = np.array([731, 2162, 1982, 2592, 1725]) \n",
    "onset_5 = np.array([1086,2317,2451,2348])\n",
    "onset_14 = np.array([1986, 1911, 1838, 3239, 1039, 2833])"
   ]
  },
  {
   "cell_type": "code",
   "execution_count": 20,
   "id": "1027e056",
   "metadata": {},
   "outputs": [
    {
     "name": "stdout",
     "output_type": "stream",
     "text": [
      "range(0, 6)\n",
      "0\n",
      "duration:3599.99609375\n",
      "start: 2396\n",
      "end: 2940\n"
     ]
    },
    {
     "name": "stderr",
     "output_type": "stream",
     "text": [
      "/var/folders/6w/2hz0kznx0qq266v8p_m0lxym0000gn/T/ipykernel_3099/2138115249.py:15: RuntimeWarning: Channel names are not unique, found duplicates for: {'T8-P8'}. Applying running numbers for duplicates.\n",
      "  raw = mne.io.read_raw_edf(files[i],preload=True,verbose=False)\n",
      "/var/folders/6w/2hz0kznx0qq266v8p_m0lxym0000gn/T/ipykernel_3099/2138115249.py:15: RuntimeWarning: Channel names are not unique, found duplicates for: {'T8-P8'}. Applying running numbers for duplicates.\n",
      "  raw = mne.io.read_raw_edf(files[i],preload=True,verbose=False)\n",
      "/var/folders/6w/2hz0kznx0qq266v8p_m0lxym0000gn/T/ipykernel_3099/2138115249.py:15: RuntimeWarning: Channel names are not unique, found duplicates for: {'T8-P8'}. Applying running numbers for duplicates.\n",
      "  raw = mne.io.read_raw_edf(files[i],preload=True,verbose=False)\n"
     ]
    },
    {
     "name": "stdout",
     "output_type": "stream",
     "text": [
      "1\n",
      "duration:3599.99609375\n",
      "start: 867\n",
      "end: 1411\n",
      "2\n",
      "duration:3599.99609375\n",
      "start: 1132\n",
      "end: 1676\n"
     ]
    },
    {
     "name": "stderr",
     "output_type": "stream",
     "text": [
      "/var/folders/6w/2hz0kznx0qq266v8p_m0lxym0000gn/T/ipykernel_3099/2138115249.py:15: RuntimeWarning: Channel names are not unique, found duplicates for: {'T8-P8'}. Applying running numbers for duplicates.\n",
      "  raw = mne.io.read_raw_edf(files[i],preload=True,verbose=False)\n",
      "/var/folders/6w/2hz0kznx0qq266v8p_m0lxym0000gn/T/ipykernel_3099/2138115249.py:15: RuntimeWarning: Channel names are not unique, found duplicates for: {'T8-P8'}. Applying running numbers for duplicates.\n",
      "  raw = mne.io.read_raw_edf(files[i],preload=True,verbose=False)\n"
     ]
    },
    {
     "name": "stdout",
     "output_type": "stream",
     "text": [
      "3\n",
      "duration:3599.99609375\n",
      "start: 415\n",
      "end: 959\n",
      "4\n",
      "duration:3599.99609375\n",
      "start: 1120\n",
      "end: 1664\n",
      "5\n",
      "duration:2324.99609375\n",
      "start: 1264\n",
      "end: 1808\n"
     ]
    },
    {
     "name": "stderr",
     "output_type": "stream",
     "text": [
      "/var/folders/6w/2hz0kznx0qq266v8p_m0lxym0000gn/T/ipykernel_3099/2138115249.py:15: RuntimeWarning: Channel names are not unique, found duplicates for: {'T8-P8'}. Applying running numbers for duplicates.\n",
      "  raw = mne.io.read_raw_edf(files[i],preload=True,verbose=False)\n"
     ]
    }
   ],
   "source": [
    "s_array_1 = seizure_data_loader(sub1_s,onset_1)\n",
    "ns_array_1 = nonseizure_data_loader(sub1_ns,6)\n",
    "X_1 , labels_1 = sample_generator(s_array_1,ns_array_1,4)\n",
    "feature_matrix_1 = feature_extractor(X_1)\n",
    "selected_features_1 = feature_selector(feature_matrix_1)"
   ]
  },
  {
   "cell_type": "code",
   "execution_count": 271,
   "id": "b9fc7893",
   "metadata": {},
   "outputs": [
    {
     "name": "stdout",
     "output_type": "stream",
     "text": [
      "range(0, 0)\n"
     ]
    }
   ],
   "source": [
    "s_array_3 = seizure_data_loader(sub3_s,onset_3)"
   ]
  },
  {
   "cell_type": "code",
   "execution_count": 292,
   "id": "61a54109",
   "metadata": {},
   "outputs": [
    {
     "name": "stdout",
     "output_type": "stream",
     "text": [
      "range(0, 5)\n",
      "0\n",
      "duration:3599.99609375\n",
      "start: 131\n",
      "end: 675\n"
     ]
    },
    {
     "name": "stderr",
     "output_type": "stream",
     "text": [
      "/var/folders/6w/2hz0kznx0qq266v8p_m0lxym0000gn/T/ipykernel_3099/3807942960.py:15: RuntimeWarning: Channel names are not unique, found duplicates for: {'T8-P8'}. Applying running numbers for duplicates.\n",
      "  raw = mne.io.read_raw_edf(files[i],preload=True,verbose=False)\n",
      "/var/folders/6w/2hz0kznx0qq266v8p_m0lxym0000gn/T/ipykernel_3099/3807942960.py:15: RuntimeWarning: Channel names are not unique, found duplicates for: {'T8-P8'}. Applying running numbers for duplicates.\n",
      "  raw = mne.io.read_raw_edf(files[i],preload=True,verbose=False)\n"
     ]
    },
    {
     "name": "stdout",
     "output_type": "stream",
     "text": [
      "1\n",
      "duration:3599.99609375\n",
      "start: 1562\n",
      "end: 2106\n",
      "2\n",
      "duration:3599.99609375\n",
      "start: 1382\n",
      "end: 1926\n"
     ]
    },
    {
     "name": "stderr",
     "output_type": "stream",
     "text": [
      "/var/folders/6w/2hz0kznx0qq266v8p_m0lxym0000gn/T/ipykernel_3099/3807942960.py:15: RuntimeWarning: Channel names are not unique, found duplicates for: {'T8-P8'}. Applying running numbers for duplicates.\n",
      "  raw = mne.io.read_raw_edf(files[i],preload=True,verbose=False)\n",
      "/var/folders/6w/2hz0kznx0qq266v8p_m0lxym0000gn/T/ipykernel_3099/3807942960.py:15: RuntimeWarning: Channel names are not unique, found duplicates for: {'T8-P8'}. Applying running numbers for duplicates.\n",
      "  raw = mne.io.read_raw_edf(files[i],preload=True,verbose=False)\n"
     ]
    },
    {
     "name": "stdout",
     "output_type": "stream",
     "text": [
      "3\n",
      "duration:3599.99609375\n",
      "start: 1992\n",
      "end: 2536\n",
      "4\n",
      "duration:3599.99609375\n",
      "start: 1125\n",
      "end: 1669\n"
     ]
    },
    {
     "name": "stderr",
     "output_type": "stream",
     "text": [
      "/var/folders/6w/2hz0kznx0qq266v8p_m0lxym0000gn/T/ipykernel_3099/3807942960.py:15: RuntimeWarning: Channel names are not unique, found duplicates for: {'T8-P8'}. Applying running numbers for duplicates.\n",
      "  raw = mne.io.read_raw_edf(files[i],preload=True,verbose=False)\n",
      "/var/folders/6w/2hz0kznx0qq266v8p_m0lxym0000gn/T/ipykernel_3099/3807942960.py:35: RuntimeWarning: Channel names are not unique, found duplicates for: {'T8-P8'}. Applying running numbers for duplicates.\n",
      "  raw = mne.io.read_raw_edf(file[0],preload=False,verbose=False)\n",
      "/var/folders/6w/2hz0kznx0qq266v8p_m0lxym0000gn/T/ipykernel_3099/3807942960.py:43: RuntimeWarning: Channel names are not unique, found duplicates for: {'T8-P8'}. Applying running numbers for duplicates.\n",
      "  raw = mne.io.read_raw_edf(file[0],preload=True,verbose=False)\n",
      "/var/folders/6w/2hz0kznx0qq266v8p_m0lxym0000gn/T/ipykernel_3099/3807942960.py:43: RuntimeWarning: Channel names are not unique, found duplicates for: {'T8-P8'}. Applying running numbers for duplicates.\n",
      "  raw = mne.io.read_raw_edf(file[0],preload=True,verbose=False)\n",
      "/var/folders/6w/2hz0kznx0qq266v8p_m0lxym0000gn/T/ipykernel_3099/3807942960.py:43: RuntimeWarning: Channel names are not unique, found duplicates for: {'T8-P8'}. Applying running numbers for duplicates.\n",
      "  raw = mne.io.read_raw_edf(file[0],preload=True,verbose=False)\n",
      "/var/folders/6w/2hz0kznx0qq266v8p_m0lxym0000gn/T/ipykernel_3099/3807942960.py:43: RuntimeWarning: Channel names are not unique, found duplicates for: {'T8-P8'}. Applying running numbers for duplicates.\n",
      "  raw = mne.io.read_raw_edf(file[0],preload=True,verbose=False)\n",
      "/var/folders/6w/2hz0kznx0qq266v8p_m0lxym0000gn/T/ipykernel_3099/3807942960.py:43: RuntimeWarning: Channel names are not unique, found duplicates for: {'T8-P8'}. Applying running numbers for duplicates.\n",
      "  raw = mne.io.read_raw_edf(file[0],preload=True,verbose=False)\n"
     ]
    },
    {
     "name": "stdout",
     "output_type": "stream",
     "text": [
      "Original data had 5 samples. Sample number 0 was segmented into\n",
      "16 seconds epochs with 60.0% overlap. \n",
      " Shape of the output:(83, 23, 4096) \n",
      "Original data had 5 samples. Sample number 0 was segmented into\n",
      "16 seconds epochs with 70.0% overlap. \n",
      " Shape of the output:(110, 23, 4096) \n",
      "Original data had 5 samples. Sample number 0 was segmented into\n",
      "16 seconds epochs with 80.0% overlap. \n",
      " Shape of the output:(165, 23, 4096) \n",
      "Original data had 5 samples. Sample number 0 was segmented into\n",
      "16 seconds epochs with 90.0% overlap. \n",
      " Shape of the output:(330, 23, 4096) \n",
      "Original data had 5 samples. Sample number 1 was segmented into\n",
      "16 seconds epochs with 60.0% overlap. \n",
      " Shape of the output:(83, 23, 4096) \n",
      "Original data had 5 samples. Sample number 1 was segmented into\n",
      "16 seconds epochs with 70.0% overlap. \n",
      " Shape of the output:(110, 23, 4096) \n",
      "Original data had 5 samples. Sample number 1 was segmented into\n",
      "16 seconds epochs with 80.0% overlap. \n",
      " Shape of the output:(165, 23, 4096) \n",
      "Original data had 5 samples. Sample number 1 was segmented into\n",
      "16 seconds epochs with 90.0% overlap. \n",
      " Shape of the output:(330, 23, 4096) \n",
      "Original data had 5 samples. Sample number 2 was segmented into\n",
      "16 seconds epochs with 60.0% overlap. \n",
      " Shape of the output:(83, 23, 4096) \n",
      "Original data had 5 samples. Sample number 2 was segmented into\n",
      "16 seconds epochs with 70.0% overlap. \n",
      " Shape of the output:(110, 23, 4096) \n",
      "Original data had 5 samples. Sample number 2 was segmented into\n",
      "16 seconds epochs with 80.0% overlap. \n",
      " Shape of the output:(165, 23, 4096) \n",
      "Original data had 5 samples. Sample number 2 was segmented into\n",
      "16 seconds epochs with 90.0% overlap. \n",
      " Shape of the output:(330, 23, 4096) \n",
      "Original data had 5 samples. Sample number 3 was segmented into\n",
      "16 seconds epochs with 60.0% overlap. \n",
      " Shape of the output:(83, 23, 4096) \n",
      "Original data had 5 samples. Sample number 3 was segmented into\n",
      "16 seconds epochs with 70.0% overlap. \n",
      " Shape of the output:(110, 23, 4096) \n",
      "Original data had 5 samples. Sample number 3 was segmented into\n",
      "16 seconds epochs with 80.0% overlap. \n",
      " Shape of the output:(165, 23, 4096) \n",
      "Original data had 5 samples. Sample number 3 was segmented into\n",
      "16 seconds epochs with 90.0% overlap. \n",
      " Shape of the output:(330, 23, 4096) \n",
      "Original data had 5 samples. Sample number 4 was segmented into\n",
      "16 seconds epochs with 60.0% overlap. \n",
      " Shape of the output:(83, 23, 4096) \n",
      "Original data had 5 samples. Sample number 4 was segmented into\n",
      "16 seconds epochs with 70.0% overlap. \n",
      " Shape of the output:(110, 23, 4096) \n",
      "Original data had 5 samples. Sample number 4 was segmented into\n",
      "16 seconds epochs with 80.0% overlap. \n",
      " Shape of the output:(165, 23, 4096) \n",
      "Original data had 5 samples. Sample number 4 was segmented into\n",
      "16 seconds epochs with 90.0% overlap. \n",
      " Shape of the output:(330, 23, 4096) \n",
      "Original data had 5 samples. Sample number 0 was segmented into\n",
      "16 seconds epochs with 60.0% overlap. \n",
      " Shape of the output:(83, 23, 4096) \n",
      "Original data had 5 samples. Sample number 0 was segmented into\n",
      "16 seconds epochs with 70.0% overlap. \n",
      " Shape of the output:(110, 23, 4096) \n",
      "Original data had 5 samples. Sample number 0 was segmented into\n",
      "16 seconds epochs with 80.0% overlap. \n",
      " Shape of the output:(165, 23, 4096) \n",
      "Original data had 5 samples. Sample number 0 was segmented into\n",
      "16 seconds epochs with 90.0% overlap. \n",
      " Shape of the output:(330, 23, 4096) \n",
      "Original data had 5 samples. Sample number 1 was segmented into\n",
      "16 seconds epochs with 60.0% overlap. \n",
      " Shape of the output:(83, 23, 4096) \n",
      "Original data had 5 samples. Sample number 1 was segmented into\n",
      "16 seconds epochs with 70.0% overlap. \n",
      " Shape of the output:(110, 23, 4096) \n",
      "Original data had 5 samples. Sample number 1 was segmented into\n",
      "16 seconds epochs with 80.0% overlap. \n",
      " Shape of the output:(165, 23, 4096) \n",
      "Original data had 5 samples. Sample number 1 was segmented into\n",
      "16 seconds epochs with 90.0% overlap. \n",
      " Shape of the output:(330, 23, 4096) \n",
      "Original data had 5 samples. Sample number 2 was segmented into\n",
      "16 seconds epochs with 60.0% overlap. \n",
      " Shape of the output:(83, 23, 4096) \n",
      "Original data had 5 samples. Sample number 2 was segmented into\n",
      "16 seconds epochs with 70.0% overlap. \n",
      " Shape of the output:(110, 23, 4096) \n",
      "Original data had 5 samples. Sample number 2 was segmented into\n",
      "16 seconds epochs with 80.0% overlap. \n",
      " Shape of the output:(165, 23, 4096) \n",
      "Original data had 5 samples. Sample number 2 was segmented into\n",
      "16 seconds epochs with 90.0% overlap. \n",
      " Shape of the output:(330, 23, 4096) \n",
      "Original data had 5 samples. Sample number 3 was segmented into\n",
      "16 seconds epochs with 60.0% overlap. \n",
      " Shape of the output:(83, 23, 4096) \n",
      "Original data had 5 samples. Sample number 3 was segmented into\n",
      "16 seconds epochs with 70.0% overlap. \n",
      " Shape of the output:(110, 23, 4096) \n",
      "Original data had 5 samples. Sample number 3 was segmented into\n",
      "16 seconds epochs with 80.0% overlap. \n",
      " Shape of the output:(165, 23, 4096) \n",
      "Original data had 5 samples. Sample number 3 was segmented into\n",
      "16 seconds epochs with 90.0% overlap. \n",
      " Shape of the output:(330, 23, 4096) \n",
      "Original data had 5 samples. Sample number 4 was segmented into\n",
      "16 seconds epochs with 60.0% overlap. \n",
      " Shape of the output:(83, 23, 4096) \n",
      "Original data had 5 samples. Sample number 4 was segmented into\n",
      "16 seconds epochs with 70.0% overlap. \n",
      " Shape of the output:(110, 23, 4096) \n",
      "Original data had 5 samples. Sample number 4 was segmented into\n",
      "16 seconds epochs with 80.0% overlap. \n",
      " Shape of the output:(165, 23, 4096) \n",
      "Original data had 5 samples. Sample number 4 was segmented into\n",
      "16 seconds epochs with 90.0% overlap. \n",
      " Shape of the output:(330, 23, 4096) \n",
      "SHAPE OF X = (320, 36, 23, 4096)\n",
      "SHAPE OF RAW DATA: n_samples, n_channels, n_epochs, n_timepoints = (320, 36, 23, 4096)\n",
      "\n",
      "    SHAPE OF FEATURE MATRIX: n_samples, n_features * n_channels * n_epochs = (320, 4140)\n",
      "final feature shape (320, 3316) \n",
      "raw feature shape (320, 4140)\n"
     ]
    }
   ],
   "source": [
    "s_array_3 = seizure_data_loader(sub3_s,onset_3)\n",
    "ns_array_3 = nonseizure_data_loader(sub3_ns,len(s_array_3))\n",
    "X_3 , labels_3 = sample_generator(s_array_3,ns_array_3,8)\n",
    "feature_matrix_3 = feature_extractor(X_3)\n",
    "selected_features_3 = feature_selector(feature_matrix_3)"
   ]
  },
  {
   "cell_type": "code",
   "execution_count": 293,
   "id": "5134f6c6",
   "metadata": {},
   "outputs": [
    {
     "data": {
      "text/plain": [
       "(320,)"
      ]
     },
     "execution_count": 293,
     "metadata": {},
     "output_type": "execute_result"
    }
   ],
   "source": [
    "labels_3.shape"
   ]
  },
  {
   "cell_type": "code",
   "execution_count": 294,
   "id": "9910d59a",
   "metadata": {},
   "outputs": [
    {
     "data": {
      "text/plain": [
       "(320, 3316)"
      ]
     },
     "execution_count": 294,
     "metadata": {},
     "output_type": "execute_result"
    }
   ],
   "source": [
    "selected_features_3.shape"
   ]
  },
  {
   "cell_type": "code",
   "execution_count": 310,
   "id": "5334745d",
   "metadata": {},
   "outputs": [
    {
     "name": "stdout",
     "output_type": "stream",
     "text": [
      "sensitivity: 0.4166666666666667\n",
      "specifity: 1.0\n",
      "accuracy: 0.7083333333333334\n",
      "[1. 0. 1. 0. 1. 1. 1. 0. 0. 0. 0. 1. 1. 0. 1. 1. 0. 1. 1. 1. 0. 1. 1. 0.\n",
      " 0. 1. 0. 0. 0. 0. 0. 1. 1. 0. 0. 1. 1. 1. 1. 0. 0. 0. 0. 0. 1. 1. 0. 1.]\n",
      "[0. 0. 1. 0. 0. 0. 0. 0. 0. 0. 0. 0. 0. 0. 1. 0. 0. 0. 0. 1. 0. 1. 1. 0.\n",
      " 0. 1. 0. 0. 0. 0. 0. 1. 0. 0. 0. 1. 0. 0. 0. 0. 0. 0. 0. 0. 1. 1. 0. 0.]\n"
     ]
    }
   ],
   "source": [
    "# Split the data into training and testing sets\n",
    "X_train_3, X_test_3, y_train_3, y_test_3 = train_test_split(selected_features_3, labels_3, test_size=0.15,stratify=labels_3)\n",
    "\n",
    "# Train an SVM classifier on the training data\n",
    "svm = SVC(kernel='linear')\n",
    "svm.fit(X_train_3, y_train_3)\n",
    "\n",
    "y_pred_3 = svm.predict(X_test_3)\n",
    "\n",
    "\n",
    "tn, fp, fn, tp = confusion_matrix(y_test_3, y_pred_3).ravel()\n",
    "# compute sensitivity (true positive rate or recall)\n",
    "sensitivity = tp / (tp + fn)\n",
    "# compute specificity (true negative rate)\n",
    "specificity = tn / (tn + fp)\n",
    "# compute accuracy \n",
    "accuracy = (tp+tn)/(tp+tn+fp+fn)\n",
    "print(f\"sensitivity: {sensitivity}\\nspecifity: {specificity}\\naccuracy: {accuracy}\")\n",
    "print(y_test_3)\n",
    "print(y_pred_3)"
   ]
  },
  {
   "cell_type": "code",
   "execution_count": 328,
   "id": "f7639319",
   "metadata": {},
   "outputs": [
    {
     "data": {
      "image/png": "[encoded data removed]",
      "text/plain": [
       "<Figure size 640x480 with 2 Axes>"
      ]
     },
     "metadata": {},
     "output_type": "display_data"
    }
   ],
   "source": [
    "disp = ConfusionMatrixDisplay.from_estimator(svm, X_test_3,  y_test_3, display_labels=[0,1],cmap=plt.cm.Blues,\n",
    "                                      normalize= None)\n",
    "disp.ax_.set_title('Confusion Matrix of SVM')\n",
    "plt.savefig(f'SVM_confusion.tiff',dpi=300)"
   ]
  },
  {
   "cell_type": "code",
   "execution_count": 241,
   "id": "2577b3e9",
   "metadata": {},
   "outputs": [
    {
     "data": {
      "text/plain": [
       "(384,)"
      ]
     },
     "execution_count": 241,
     "metadata": {},
     "output_type": "execute_result"
    }
   ],
   "source": [
    "labels.shape"
   ]
  },
  {
   "cell_type": "code",
   "execution_count": 251,
   "id": "2e29812b",
   "metadata": {},
   "outputs": [
    {
     "data": {
      "text/plain": [
       "array([0., 0., 1., 1., 1., 0., 0., 0., 1., 1., 1., 0., 0., 1., 0., 0., 1.,\n",
       "       0., 1., 1., 1., 0., 1., 1., 1., 1., 0., 1., 0., 1., 1., 0., 0., 1.,\n",
       "       1., 1., 1., 1., 0., 1., 0., 0., 0., 0., 1., 0., 0., 0., 0., 1., 0.,\n",
       "       0., 0., 0., 0., 1., 1., 0., 1., 1., 1., 0., 1., 0., 1., 0., 1., 0.,\n",
       "       0., 1., 1., 0., 0., 0., 1., 1., 1., 1., 1., 0., 0., 0., 1., 0., 0.,\n",
       "       1., 0., 1., 0., 0., 1., 0., 0., 1., 1., 0., 0., 1., 1., 0., 1., 1.,\n",
       "       0., 1., 1., 0., 1., 0., 0., 0., 1., 0., 0., 1., 1., 0., 0., 0., 1.,\n",
       "       1., 1., 1., 0., 0., 0., 1., 1., 0., 1., 1., 1., 0., 0., 0., 0., 1.,\n",
       "       0., 0., 1., 1., 0., 0., 1., 1., 1., 1., 0., 1., 0., 1., 1., 1., 0.,\n",
       "       1., 0., 0., 1., 0., 1., 0., 0., 1., 1., 0., 0., 0., 1., 1., 0., 1.,\n",
       "       1., 1., 1., 1., 1., 0., 0., 0., 0., 0., 1., 1., 0., 1., 0., 1., 0.,\n",
       "       0., 1., 0., 1., 0.])"
      ]
     },
     "execution_count": 251,
     "metadata": {},
     "output_type": "execute_result"
    }
   ],
   "source": [
    "y_train"
   ]
  },
  {
   "cell_type": "code",
   "execution_count": 335,
   "id": "bf6597eb",
   "metadata": {},
   "outputs": [
    {
     "name": "stdout",
     "output_type": "stream",
     "text": [
      "sensitivity: 0.9583333333333334\n",
      "specifity: 1.0\n",
      "accuracy: 0.9791666666666666\n"
     ]
    }
   ],
   "source": [
    "X_train_3, X_test_3, y_train_3, y_test_3 = train_test_split(selected_features_3, labels_3, test_size=0.15,stratify=labels_3)\n",
    "\n",
    "knn = KNeighborsClassifier(n_neighbors=1)\n",
    "knn.fit(X_train_3, y_train_3)\n",
    "\n",
    "y_pred_3 = knn.predict(X_test_3)\n",
    "\n",
    "tn, fp, fn, tp = confusion_matrix(y_test_3, y_pred_3).ravel()\n",
    "# compute sensitivity (true positive rate or recall)\n",
    "sensitivity = tp / (tp + fn)\n",
    "# compute specificity (true negative rate)\n",
    "specificity = tn / (tn + fp)\n",
    "# compute accuracy \n",
    "accuracy = (tp+tn)/(tp+tn+fp+fn)\n",
    "print(f\"sensitivity: {sensitivity}\\nspecifity: {specificity}\\naccuracy: {accuracy}\")\n"
   ]
  },
  {
   "cell_type": "code",
   "execution_count": 327,
   "id": "26437af1",
   "metadata": {},
   "outputs": [
    {
     "data": {
      "image/png": "[encoded data removed]",
      "text/plain": [
       "<Figure size 640x480 with 2 Axes>"
      ]
     },
     "metadata": {},
     "output_type": "display_data"
    }
   ],
   "source": [
    "disp = ConfusionMatrixDisplay.from_estimator(knn, X_test_3,  y_test_3, display_labels=[0,1],cmap=plt.cm.Blues,\n",
    "                                      normalize= None)\n",
    "disp.ax_.set_title('Confusion Matrix of KNN')\n",
    "#plt.savefig(f'knn_confusion.tiff',dpi=300)"
   ]
  },
  {
   "cell_type": "code",
   "execution_count": 415,
   "id": "703b83ea",
   "metadata": {},
   "outputs": [
    {
     "name": "stdout",
     "output_type": "stream",
     "text": [
      "sensitivity: 1.0\n",
      "specifity: 0.9583333333333334\n",
      "accuracy: 0.9791666666666666\n"
     ]
    },
    {
     "data": {
      "text/plain": [
       "(0.9791666666666666, 1.0, 0.9583333333333334)"
      ]
     },
     "execution_count": 415,
     "metadata": {},
     "output_type": "execute_result"
    }
   ],
   "source": [
    "X_train_3, X_test_3, y_train_3, y_test_3 = train_test_split(selected_features_3, labels_3, test_size=0.15,stratify=labels_3)\n",
    "\n",
    "tree_clf = DecisionTreeClassifier()\n",
    "tree_clf.fit(X_train_3, y_train_3)\n",
    "y_pred = tree_clf.predict(X_test_3)\n",
    "ass(y_test_3,y_pred)\n"
   ]
  },
  {
   "cell_type": "code",
   "execution_count": 406,
   "id": "74c1a82b",
   "metadata": {},
   "outputs": [
    {
     "name": "stdout",
     "output_type": "stream",
     "text": [
      "sensitivity: 0.7916666666666666\n",
      "specifity: 1.0\n",
      "accuracy: 0.8958333333333334\n"
     ]
    },
    {
     "data": {
      "text/plain": [
       "(0.8958333333333334, 0.7916666666666666, 1.0)"
      ]
     },
     "execution_count": 406,
     "metadata": {},
     "output_type": "execute_result"
    }
   ],
   "source": [
    "X_train_3, X_test_3, y_train_3, y_test_3 = train_test_split(selected_features_3, labels_3, test_size=0.15,stratify=labels_3)\n",
    "gnb = GaussianNB()\n",
    "gnb.fit(X_train_3, y_train_3)\n",
    "y_pred = gnb.predict(X_test_3)\n",
    "ass(y_test_3,y_pred)"
   ]
  },
  {
   "cell_type": "code",
   "execution_count": 429,
   "id": "07d2abb1",
   "metadata": {},
   "outputs": [
    {
     "name": "stdout",
     "output_type": "stream",
     "text": [
      "sensitivity: 0.3333333333333333\n",
      "specifity: 1.0\n",
      "accuracy: 0.6875\n"
     ]
    },
    {
     "data": {
      "text/plain": [
       "(0.6875, 0.3333333333333333, 1.0)"
      ]
     },
     "execution_count": 429,
     "metadata": {},
     "output_type": "execute_result"
    }
   ],
   "source": [
    "# Split the data into training and test sets\n",
    "X_train, X_test, y_train, y_test = train_test_split(selected_features_3, labels_3, test_size=0.2)\n",
    "\n",
    "# Create an MLP classifier with one hidden layer of 10 neurons\n",
    "mlp = MLPClassifier(hidden_layer_sizes=(3,), max_iter=1000)\n",
    "\n",
    "# Fit the classifier to the training data\n",
    "mlp.fit(X_train, y_train)\n",
    "\n",
    "y_pred = mlp.predict(X_test)\n",
    "\n",
    "ass(y_test,y_pred)"
   ]
  },
  {
   "cell_type": "code",
   "execution_count": 474,
   "id": "93b25f3b",
   "metadata": {},
   "outputs": [
    {
     "name": "stderr",
     "output_type": "stream",
     "text": [
      "/opt/anaconda3/lib/python3.9/site-packages/sklearn/neural_network/_multilayer_perceptron.py:692: ConvergenceWarning: Stochastic Optimizer: Maximum iterations (200) reached and the optimization hasn't converged yet.\n",
      "  warnings.warn(\n"
     ]
    },
    {
     "data": {
      "text/plain": [
       "MLPClassifier(random_state=1)"
      ]
     },
     "execution_count": 474,
     "metadata": {},
     "output_type": "execute_result"
    }
   ],
   "source": [
    "# from sklearn.svm import SVC\n",
    "# from sklearn.neural_network import MLPClassifier\n",
    "# from sklearn.datasets import make_classification\n",
    "# from sklearn.model_selection import train_test_split\n",
    "\n",
    "\n",
    "X_train, X_test, y_train, y_test = train_test_split(selected_features_3, labels_3, test_size=0.2)\n",
    "\n",
    "# Train a SVM\n",
    "svm = SVC(probability=True)\n",
    "svm.fit(X_train, y_train)\n",
    "\n",
    "# Train a MLP\n",
    "mlp = MLPClassifier(random_state=1)\n",
    "mlp.fit(X_train, y_train)\n",
    "\n",
    "\n",
    "#get mixure of experts predictions\n",
    "moe_preds = mixture_of_experts(svm, mlp, X_test)"
   ]
  },
  {
   "cell_type": "code",
   "execution_count": 476,
   "id": "4f585047",
   "metadata": {},
   "outputs": [
    {
     "name": "stdout",
     "output_type": "stream",
     "text": [
      "sensitivity: 0.8387096774193549\n",
      "specifity: 0.9696969696969697\n",
      "accuracy: 0.90625\n"
     ]
    },
    {
     "data": {
      "text/plain": [
       "(0.90625, 0.8387096774193549, 0.9696969696969697)"
      ]
     },
     "execution_count": 476,
     "metadata": {},
     "output_type": "execute_result"
    }
   ],
   "source": [
    "ass(y_test,moe_preds)"
   ]
  },
  {
   "cell_type": "code",
   "execution_count": 477,
   "id": "6a91ff3e",
   "metadata": {},
   "outputs": [
    {
     "data": {
      "text/plain": [
       "array([[32,  1],\n",
       "       [ 5, 26]])"
      ]
     },
     "execution_count": 477,
     "metadata": {},
     "output_type": "execute_result"
    }
   ],
   "source": [
    "confusion_matrix(y_test,moe_preds)"
   ]
  },
  {
   "cell_type": "code",
   "execution_count": 487,
   "id": "cabec10c",
   "metadata": {},
   "outputs": [
    {
     "data": {
      "image/png": "[encoded data removed]",
      "text/plain": [
       "<Figure size 1000x700 with 2 Axes>"
      ]
     },
     "metadata": {},
     "output_type": "display_data"
    }
   ],
   "source": [
    "plt.figure(figsize=(10,7))\n",
    "sns.heatmap(confusion_matrix(y_test,moe_preds), annot=True, fmt='.3f', xticklabels=[0,1], yticklabels=[0,1])\n",
    "plt.title('Mixture-of-experts confusion matrix')\n",
    "plt.xlabel('Predicted')\n",
    "plt.ylabel('Actual')\n",
    "plt.savefig('moe_cunfusion.tiff',dpi=300)"
   ]
  }
 ],
 "metadata": {
  "kernelspec": {
   "display_name": "Python 3 (ipykernel)",
   "language": "python",
   "name": "python3"
  },
  "language_info": {
   "codemirror_mode": {
    "name": "ipython",
    "version": 3
   },
   "file_extension": ".py",
   "mimetype": "text/x-python",
   "name": "python",
   "nbconvert_exporter": "python",
   "pygments_lexer": "ipython3",
   "version": "3.9.12"
  }
 },
 "nbformat": 4,
 "nbformat_minor": 5
}
