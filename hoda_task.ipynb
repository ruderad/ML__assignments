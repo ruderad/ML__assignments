{
 "cells": [
  {
   "cell_type": "code",
   "execution_count": 163,
   "id": "c0de7f6e",
   "metadata": {},
   "outputs": [],
   "source": [
    "import scipy.io\n",
    "import numpy as np\n",
    "import pandas as pd\n",
    "import matplotlib.pyplot as plt\n",
    "import seaborn as sns\n",
    "import random\n",
    "import time\n",
    "import sklearn\n",
    "from sklearn.metrics import confusion_matrix\n",
    "from sklearn.dummy import DummyClassifier\n",
    "from sklearn.neighbors import KNeighborsClassifier , RadiusNeighborsClassifier\n",
    "from sklearn.model_selection import GridSearchCV\n",
    "from sklearn.metrics import accuracy_score,recall_score,precision_score,f1_score\n",
    "from sklearn.naive_bayes import GaussianNB \n",
    "from numpy.random import shuffle"
   ]
  },
  {
   "cell_type": "markdown",
   "id": "14331cb3",
   "metadata": {},
   "source": [
    "# 1- Loading data and exmaining it "
   ]
  },
  {
   "cell_type": "code",
   "execution_count": 7,
   "id": "f5137e14",
   "metadata": {},
   "outputs": [],
   "source": [
    "hoda_raw = scipy.io.loadmat('Data_hoda_full.mat') #loading the dataset"
   ]
  },
  {
   "cell_type": "code",
   "execution_count": 8,
   "id": "efe40483",
   "metadata": {},
   "outputs": [
    {
     "data": {
      "text/plain": [
       "dict_keys(['__header__', '__version__', '__globals__', 'Data', 'labels'])"
      ]
     },
     "execution_count": 8,
     "metadata": {},
     "output_type": "execute_result"
    }
   ],
   "source": [
    "hoda_raw.keys()"
   ]
  },
  {
   "cell_type": "code",
   "execution_count": 9,
   "id": "04d4f9d1",
   "metadata": {},
   "outputs": [],
   "source": [
    "X = np.squeeze(hoda_raw['Data'])\n",
    "Y = np.squeeze(hoda_raw['labels'])"
   ]
  },
  {
   "cell_type": "code",
   "execution_count": 39,
   "id": "cf4a06e0",
   "metadata": {},
   "outputs": [
    {
     "name": "stdout",
     "output_type": "stream",
     "text": [
      "SAMPLE NUMBER 100 \n",
      "LABEL = 1 \n",
      "SIZE = (54, 11)\n"
     ]
    },
    {
     "data": {
      "image/png": "[encoded data removed]",
      "text/plain": [
       "<Figure size 640x480 with 1 Axes>"
      ]
     },
     "metadata": {},
     "output_type": "display_data"
    }
   ],
   "source": [
    "i = 100\n",
    "plt.imshow(X[i],cmap='binary')\n",
    "print(f'SAMPLE NUMBER {i} \\nLABEL = {Y[i]} \\nSIZE = {X[i].shape}')"
   ]
  },
  {
   "cell_type": "code",
   "execution_count": 11,
   "id": "8d3f6186",
   "metadata": {},
   "outputs": [
    {
     "name": "stdout",
     "output_type": "stream",
     "text": [
      "There are 6000 samples of 0 \n",
      "There are 6000 samples of 1 \n",
      "There are 6000 samples of 2 \n",
      "There are 6000 samples of 3 \n",
      "There are 6000 samples of 4 \n",
      "There are 6000 samples of 5 \n",
      "There are 6000 samples of 6 \n",
      "There are 6000 samples of 7 \n",
      "There are 6000 samples of 8 \n",
      "There are 6000 samples of 9 \n"
     ]
    }
   ],
   "source": [
    "for digit in range(10):\n",
    "    print(f\"There are {len(Y[Y==digit])} samples of {digit} \")"
   ]
  },
  {
   "cell_type": "markdown",
   "id": "07851f34",
   "metadata": {},
   "source": [
    "### range of shape "
   ]
  },
  {
   "cell_type": "code",
   "execution_count": 403,
   "id": "22a94f08",
   "metadata": {},
   "outputs": [
    {
     "data": {
      "text/plain": [
       "(27, 20)"
      ]
     },
     "execution_count": 403,
     "metadata": {},
     "output_type": "execute_result"
    }
   ],
   "source": [
    "X[0].shape"
   ]
  },
  {
   "cell_type": "code",
   "execution_count": 405,
   "id": "52e4c954",
   "metadata": {},
   "outputs": [],
   "source": [
    "shapes = [X[i].shape for i in range(60000)]"
   ]
  },
  {
   "cell_type": "code",
   "execution_count": 407,
   "id": "e9040dcd",
   "metadata": {},
   "outputs": [
    {
     "name": "stdout",
     "output_type": "stream",
     "text": [
      "smallest image's shape:(4, 5)\n",
      "biggest image's shape:(62, 35)\n"
     ]
    }
   ],
   "source": [
    "print(f\"smallest image's shape:{min(shapes)}\\nbiggest image's shape:{max(shapes)}\")"
   ]
  },
  {
   "cell_type": "markdown",
   "id": "98998f4e",
   "metadata": {},
   "source": [
    "# 2- Preprocessing"
   ]
  },
  {
   "cell_type": "markdown",
   "id": "d11ac9e8",
   "metadata": {},
   "source": [
    "## 2-1- Resizing Images"
   ]
  },
  {
   "cell_type": "code",
   "execution_count": 12,
   "id": "74e36160",
   "metadata": {},
   "outputs": [],
   "source": [
    "from skimage.transform import resize"
   ]
  },
  {
   "cell_type": "code",
   "execution_count": 13,
   "id": "c6da7b77",
   "metadata": {},
   "outputs": [],
   "source": [
    "X_resized = [resize(sample,(20,20)) for sample in X]\n",
    "X_resized = np.array(X_resized)\n",
    "hoda = pd.DataFrame(zip(X_resized,Y),columns=['instances','labels'])"
   ]
  },
  {
   "cell_type": "code",
   "execution_count": 14,
   "id": "8c773971",
   "metadata": {},
   "outputs": [
    {
     "data": {
      "text/plain": [
       "400"
      ]
     },
     "execution_count": 14,
     "metadata": {},
     "output_type": "execute_result"
    }
   ],
   "source": [
    "X_resized.shape[1] * X_resized.shape[2]"
   ]
  },
  {
   "cell_type": "code",
   "execution_count": 393,
   "id": "83f88b7e",
   "metadata": {},
   "outputs": [
    {
     "name": "stdout",
     "output_type": "stream",
     "text": [
      "SAMPLE NUMBER 3 \n",
      "LABEL = 2 \n",
      "ORIGINAL_SIZE = (36, 17)\n",
      "NEW_SIZE = (20, 20)\n"
     ]
    },
    {
     "data": {
      "image/png": "[encoded data removed]",
      "text/plain": [
       "<Figure size 640x480 with 2 Axes>"
      ]
     },
     "metadata": {},
     "output_type": "display_data"
    }
   ],
   "source": [
    "i = 3\n",
    "fig, axes = plt.subplots(1,2)\n",
    "axes[0].imshow(X[i])\n",
    "axes[1].imshow(X_resized[i])\n",
    "print(f\"SAMPLE NUMBER {i} \\nLABEL = {Y[i]} \\nORIGINAL_SIZE = {X[i].shape}\\nNEW_SIZE = {X_resized[i].shape}\")\n",
    "\n",
    "for ax in axes:\n",
    "    ax.set_xticks([])\n",
    "    ax.set_yticks([])\n",
    "    ax.set_xticklabels([])\n",
    "    ax.set_yticklabels([])"
   ]
  },
  {
   "cell_type": "code",
   "execution_count": null,
   "id": "8fb81d8f",
   "metadata": {},
   "outputs": [],
   "source": []
  },
  {
   "cell_type": "code",
   "execution_count": 353,
   "id": "deddfb18",
   "metadata": {},
   "outputs": [
    {
     "data": {
      "text/plain": [
       "'/Users/radmehr/Desktop/Darsi/01_phd/semester2/Machine Learning/Assignments'"
      ]
     },
     "execution_count": 353,
     "metadata": {},
     "output_type": "execute_result"
    }
   ],
   "source": [
    "pwd"
   ]
  },
  {
   "cell_type": "code",
   "execution_count": 389,
   "id": "e14506ca",
   "metadata": {},
   "outputs": [],
   "source": [
    "def grab_index_of_classes(class_name, number_of_instances = 5,data=hoda):\n",
    "    axes_index = range(number_of_instances)\n",
    "    all_indices = data[data['labels']==class_name]\n",
    "    return all_indices.index[:number_of_instances]"
   ]
  },
  {
   "cell_type": "code",
   "execution_count": 390,
   "id": "40341244",
   "metadata": {},
   "outputs": [
    {
     "data": {
      "image/png": "[encoded data removed]",
      "text/plain": [
       "<Figure size 640x480 with 10 Axes>"
      ]
     },
     "metadata": {},
     "output_type": "display_data"
    }
   ],
   "source": [
    "NUMBER_OF_INSTANCES = 10\n",
    "CLASS_NAME = 1\n",
    "fig, axes = plt.subplots(NUMBER_OF_INSTANCES,1)\n",
    "index_list = grab_index_of_classes(CLASS_NAME,NUMBER_OF_INSTANCES,hoda)\n",
    "instance_range = range(NUMBER_OF_INSTANCES)\n",
    "for instance in instance_range:\n",
    "    axes[instance].imshow(new['instances'][index_list[instance]],cmap='binary')\n",
    "for ax in axes:\n",
    "    ax.set_xticks([])\n",
    "    ax.set_yticks([])\n",
    "    ax.set_xticklabels([])\n",
    "    ax.set_yticklabels([])\n",
    "#fig.savefig(f'{CLASS_NAME}s.tiff')"
   ]
  },
  {
   "cell_type": "markdown",
   "id": "84a794b3",
   "metadata": {},
   "source": [
    "## 2-2- Feature Extraction "
   ]
  },
  {
   "cell_type": "code",
   "execution_count": 15,
   "id": "5d38fef1",
   "metadata": {},
   "outputs": [],
   "source": [
    "sample_size = X_resized.shape[0]\n",
    "feature_vector_size = X_resized.shape[1] * X_resized.shape[2]\n",
    "X_vectorized = np.reshape(X_resized,(sample_size,feature_vector_size,1))"
   ]
  },
  {
   "cell_type": "markdown",
   "id": "bdf7961c",
   "metadata": {},
   "source": [
    "# 3- Spliting data into training, validation, and test sets"
   ]
  },
  {
   "cell_type": "code",
   "execution_count": 17,
   "id": "32adeb65",
   "metadata": {},
   "outputs": [],
   "source": [
    "from sklearn.model_selection import train_test_split"
   ]
  },
  {
   "cell_type": "code",
   "execution_count": 18,
   "id": "37e123cb",
   "metadata": {},
   "outputs": [],
   "source": [
    "x_train, x_test, y_train, y_test = train_test_split(X_vectorized,Y,test_size=0.33333,random_state=42) #spliting data into training and test sets\n",
    "x_train, x_validation, y_train, y_validation = train_test_split(x_train,y_train,test_size= 0.25, random_state=42)"
   ]
  },
  {
   "cell_type": "code",
   "execution_count": 274,
   "id": "43e553be",
   "metadata": {},
   "outputs": [
    {
     "name": "stdout",
     "output_type": "stream",
     "text": [
      "Training set shape:(30000, 400, 1)\n",
      "Validation set shape:(10000, 400, 1)\n",
      "Test set shape:(20000, 400, 1)\n"
     ]
    }
   ],
   "source": [
    "print(f'Training set shape:{x_train.shape}\\nValidation set shape:{x_validation.shape}\\nTest set shape:{x_test.shape}')"
   ]
  },
  {
   "cell_type": "code",
   "execution_count": 45,
   "id": "d48bc8de",
   "metadata": {},
   "outputs": [
    {
     "name": "stdout",
     "output_type": "stream",
     "text": [
      "There are 3037 samples of 0 in the training set\n",
      "There are 3001 samples of 1 in the training set\n",
      "There are 2987 samples of 2 in the training set\n",
      "There are 2992 samples of 3 in the training set\n",
      "There are 2977 samples of 4 in the training set\n",
      "There are 2951 samples of 5 in the training set\n",
      "There are 3023 samples of 6 in the training set\n",
      "There are 2994 samples of 7 in the training set\n",
      "There are 3082 samples of 8 in the training set\n",
      "There are 2956 samples of 9 in the training set\n"
     ]
    }
   ],
   "source": [
    "labels_of_interest = y_train \n",
    "set_of_interest = 'training'\n",
    "for digit in range(10):\n",
    "    print(f\"There are {len(labels_of_interest[labels_of_interest==digit])} samples of {digit} in the {set_of_interest} set\")"
   ]
  },
  {
   "cell_type": "markdown",
   "id": "394cfbee",
   "metadata": {},
   "source": [
    "# 4- Building a dummy classifier to obtain a baseline accuracy"
   ]
  },
  {
   "cell_type": "code",
   "execution_count": 41,
   "id": "e5fb54fa",
   "metadata": {},
   "outputs": [],
   "source": [
    "from sklearn.dummy import DummyClassifier"
   ]
  },
  {
   "cell_type": "code",
   "execution_count": 236,
   "id": "dd1b34cb",
   "metadata": {},
   "outputs": [],
   "source": [
    "clf = DummyClassifier(strategy='most_frequent').fit(x_train,y_train)\n",
    "y_pred = clf.predict(x_test)"
   ]
  },
  {
   "cell_type": "code",
   "execution_count": 239,
   "id": "fc461f5c",
   "metadata": {},
   "outputs": [
    {
     "name": "stdout",
     "output_type": "stream",
     "text": [
      "Elapsed time: 0.0007801055908203125 seconds\n"
     ]
    }
   ],
   "source": [
    "start_time = time.time()\n",
    "\n",
    "y_pred = clf.predict(x_test)\n",
    "\n",
    "end_time = time.time()\n",
    "elapsed_time = end_time - start_time\n",
    "print(f\"Elapsed time: {elapsed_time} seconds\")\n"
   ]
  },
  {
   "cell_type": "markdown",
   "id": "01ecef31",
   "metadata": {},
   "source": [
    "##  performance of dummy classifier "
   ]
  },
  {
   "cell_type": "code",
   "execution_count": 78,
   "id": "acc4a73e",
   "metadata": {},
   "outputs": [],
   "source": [
    "from sklearn.metrics import accuracy_score,recall_score,precision_score,f1_score\n"
   ]
  },
  {
   "cell_type": "code",
   "execution_count": 238,
   "id": "05166f77",
   "metadata": {},
   "outputs": [
    {
     "data": {
      "text/plain": [
       "9.94"
      ]
     },
     "execution_count": 238,
     "metadata": {},
     "output_type": "execute_result"
    }
   ],
   "source": [
    "accuracy_score(y_test,y_pred) * 100"
   ]
  },
  {
   "cell_type": "code",
   "execution_count": 86,
   "id": "5e0b45e4",
   "metadata": {},
   "outputs": [
    {
     "name": "stderr",
     "output_type": "stream",
     "text": [
      "/opt/anaconda3/lib/python3.9/site-packages/sklearn/metrics/_classification.py:1318: UndefinedMetricWarning: Precision is ill-defined and being set to 0.0 in labels with no predicted samples. Use `zero_division` parameter to control this behavior.\n",
      "  _warn_prf(average, modifier, msg_start, len(result))\n"
     ]
    },
    {
     "data": {
      "text/plain": [
       "0.009940000000000001"
      ]
     },
     "execution_count": 86,
     "metadata": {},
     "output_type": "execute_result"
    }
   ],
   "source": [
    "precision_score(y_test,y_pred,average='macro')"
   ]
  },
  {
   "cell_type": "code",
   "execution_count": 87,
   "id": "1f437eb4",
   "metadata": {},
   "outputs": [
    {
     "data": {
      "text/plain": [
       "0.0994"
      ]
     },
     "execution_count": 87,
     "metadata": {},
     "output_type": "execute_result"
    }
   ],
   "source": [
    "precision_score(y_test,y_pred,average='micro')"
   ]
  },
  {
   "cell_type": "code",
   "execution_count": 92,
   "id": "552fe0a3",
   "metadata": {},
   "outputs": [
    {
     "name": "stdout",
     "output_type": "stream",
     "text": [
      "Accuracy Score : 0.0994\n",
      "Precision Score : 0.0994\n",
      "Recall Score : 0.0994\n",
      "F1 Score : 0.09940000000000002\n",
      "Confusion Matrix : \n",
      "[[   0    0    0    0    0    0    0    0 1950    0]\n",
      " [   0    0    0    0    0    0    0    0 2011    0]\n",
      " [   0    0    0    0    0    0    0    0 1983    0]\n",
      " [   0    0    0    0    0    0    0    0 2023    0]\n",
      " [   0    0    0    0    0    0    0    0 1990    0]\n",
      " [   0    0    0    0    0    0    0    0 2022    0]\n",
      " [   0    0    0    0    0    0    0    0 1984    0]\n",
      " [   0    0    0    0    0    0    0    0 1991    0]\n",
      " [   0    0    0    0    0    0    0    0 1988    0]\n",
      " [   0    0    0    0    0    0    0    0 2058    0]]\n"
     ]
    }
   ],
   "source": [
    "print('Accuracy Score : ' + str(accuracy_score(y_test,y_pred)))\n",
    "print('Precision Score : ' + str(precision_score(y_test,y_pred,average='micro')))\n",
    "print('Recall Score : ' + str(recall_score(y_test,y_pred,average='micro')))\n",
    "print('F1 Score : ' + str(f1_score(y_test,y_pred,average='micro')))\n",
    "\n",
    "#Dummy Classifier Confusion matrix\n",
    "print('Confusion Matrix : \\n' + str(confusion_matrix(y_test,y_pred)))"
   ]
  },
  {
   "cell_type": "markdown",
   "id": "41b06a51",
   "metadata": {},
   "source": [
    "# 5- KNN"
   ]
  },
  {
   "cell_type": "code",
   "execution_count": 101,
   "id": "f2695c71",
   "metadata": {},
   "outputs": [],
   "source": [
    "x_train = x_train.reshape((x_train.shape[0], -1))   #reshaping the 3-d vector into a 2-d vector that can be fed to\n",
    "                                                    # KNN classifier. the original shape of x_train is \n",
    "                                                    # \"n_samples, n_rows, n_cols\". we want to have a 2-d data and\n",
    "                                                    # the expression x_train.reshape((x_train.shape[0], -1)) will \n",
    "                                                    #reshape the array into a two-dimensional array with shape \n",
    "                                                    #(n_samples, n_rows * n_cols)\n",
    "x_test = x_test.reshape((x_test.shape[0], -1))"
   ]
  },
  {
   "cell_type": "markdown",
   "id": "bd35586e",
   "metadata": {},
   "source": [
    "## Running KNN with default parameters "
   ]
  },
  {
   "cell_type": "code",
   "execution_count": 301,
   "id": "48902108",
   "metadata": {},
   "outputs": [
    {
     "data": {
      "text/plain": [
       "KNeighborsClassifier(n_neighbors=3)"
      ]
     },
     "execution_count": 301,
     "metadata": {},
     "output_type": "execute_result"
    }
   ],
   "source": [
    "knn = KNeighborsClassifier(n_neighbors=3)\n",
    "knn.fit(x_train, y_train)\n",
    "#y_pred = knn.predict(x_test)"
   ]
  },
  {
   "cell_type": "code",
   "execution_count": 353,
   "id": "c2b1ce29",
   "metadata": {},
   "outputs": [
    {
     "name": "stdout",
     "output_type": "stream",
     "text": [
      "Elapsed time: 8.99095606803894 seconds\n"
     ]
    }
   ],
   "source": [
    "start_time = time.time()\n",
    "knn.fit(x_train, y_train)\n",
    "y_pred = knn.predict(x_test)\n",
    "\n",
    "end_time = time.time()\n",
    "elapsed_time = end_time - start_time\n",
    "print(f\"Elapsed time: {elapsed_time} seconds\")\n"
   ]
  },
  {
   "cell_type": "code",
   "execution_count": 303,
   "id": "c86dd303",
   "metadata": {},
   "outputs": [
    {
     "name": "stdout",
     "output_type": "stream",
     "text": [
      "Accuracy Score : 0.98395\n",
      "Precision Score : 0.98395\n",
      "Recall Score : 0.98395\n",
      "F1 Score : 0.98395\n",
      "Confusion Matrix : \n",
      "[[1932   16    0    0    0    1    0    1    0    0]\n",
      " [  23 1985    0    0    0    0    2    0    0    1]\n",
      " [   0   13 1950   12    1    0    1    4    0    2]\n",
      " [   0    1   63 1936   22    1    0    0    0    0]\n",
      " [   1    8   17   26 1932    1    5    0    0    0]\n",
      " [  22    1    0    0    2 1987    1    0    9    0]\n",
      " [   1    5    2    0    1    0 1953    1    0   21]\n",
      " [   1    1    0    0    0    0    1 1988    0    0]\n",
      " [   0    3    0    0    0    0    0    0 1985    0]\n",
      " [   1    9    1    0    0    0   14    0    2 2031]]\n"
     ]
    }
   ],
   "source": [
    "print('Accuracy Score : ' + str(accuracy_score(y_test,y_pred)))\n",
    "print('Precision Score : ' + str(precision_score(y_test,y_pred,average='micro')))\n",
    "print('Recall Score : ' + str(recall_score(y_test,y_pred,average='micro')))\n",
    "print('F1 Score : ' + str(f1_score(y_test,y_pred,average='micro')))\n",
    "print('Confusion Matrix : \\n' + str(confusion_matrix(y_test,y_pred)))"
   ]
  },
  {
   "cell_type": "code",
   "execution_count": 313,
   "id": "fd31735f",
   "metadata": {},
   "outputs": [
    {
     "data": {
      "image/png": "[encoded data removed]",
      "text/plain": [
       "<Figure size 640x480 with 2 Axes>"
      ]
     },
     "metadata": {},
     "output_type": "display_data"
    }
   ],
   "source": [
    "disp = ConfusionMatrixDisplay.from_estimator(knn, x_test,  y_test, display_labels=range(10),cmap=plt.cm.Blues,\n",
    "                                      normalize= None)\n",
    "disp.ax_.set_title('Confusion Matrix of KNN')\n",
    "plt.savefig(f'KNN_confusion.tiff',dpi=300)"
   ]
  },
  {
   "cell_type": "markdown",
   "id": "bc1e1e3e",
   "metadata": {},
   "source": [
    "##  KNN with Grid Search "
   ]
  },
  {
   "cell_type": "code",
   "execution_count": 305,
   "id": "56c00712",
   "metadata": {},
   "outputs": [],
   "source": [
    "k_range = list(range(1, 16,2))\n",
    "param_grid = dict(n_neighbors=k_range)"
   ]
  },
  {
   "cell_type": "code",
   "execution_count": 307,
   "id": "d7367d74",
   "metadata": {},
   "outputs": [],
   "source": [
    "grid = GridSearchCV(knn, param_grid, cv=8, scoring='accuracy')"
   ]
  },
  {
   "cell_type": "code",
   "execution_count": 308,
   "id": "58a7731a",
   "metadata": {},
   "outputs": [
    {
     "name": "stdout",
     "output_type": "stream",
     "text": [
      "Elapsed time: 42.711353063583374 seconds\n"
     ]
    }
   ],
   "source": [
    "start_time = time.time()\n",
    "\n",
    "grid.fit(x_test,y_test)\n",
    "\n",
    "end_time = time.time()\n",
    "elapsed_time = end_time - start_time\n",
    "print(f\"Elapsed time: {elapsed_time} seconds\")\n"
   ]
  },
  {
   "cell_type": "code",
   "execution_count": 309,
   "id": "ce3e4752",
   "metadata": {},
   "outputs": [
    {
     "name": "stdout",
     "output_type": "stream",
     "text": [
      "{'n_neighbors': 1}\n",
      "0.9799998572356888\n"
     ]
    }
   ],
   "source": [
    "print(grid.best_params_)\n",
    "print(grid.best_score_)"
   ]
  },
  {
   "cell_type": "code",
   "execution_count": 310,
   "id": "7cb660ee",
   "metadata": {},
   "outputs": [
    {
     "name": "stdout",
     "output_type": "stream",
     "text": [
      "0.98000 for {'n_neighbors': 1}\n",
      "0.97955 for {'n_neighbors': 3}\n",
      "0.97960 for {'n_neighbors': 5}\n",
      "0.97900 for {'n_neighbors': 7}\n",
      "0.97790 for {'n_neighbors': 9}\n",
      "0.97580 for {'n_neighbors': 11}\n",
      "0.97540 for {'n_neighbors': 13}\n",
      "0.97510 for {'n_neighbors': 15}\n"
     ]
    }
   ],
   "source": [
    "results = grid.cv_results_\n",
    "for mean_score, params in zip(results[\"mean_test_score\"], results[\"params\"]):\n",
    "    print(f\"{mean_score:.5f} for {params}\")"
   ]
  },
  {
   "cell_type": "markdown",
   "id": "62a04040",
   "metadata": {},
   "source": [
    "# Naive Bayes"
   ]
  },
  {
   "cell_type": "markdown",
   "id": "e39988f3",
   "metadata": {},
   "source": [
    "## Default parameters  "
   ]
  },
  {
   "cell_type": "code",
   "execution_count": 279,
   "id": "a8e74cf7",
   "metadata": {},
   "outputs": [],
   "source": [
    "bayes = GaussianNB(var_smoothing=0.1)"
   ]
  },
  {
   "cell_type": "code",
   "execution_count": 280,
   "id": "e0e9871b",
   "metadata": {},
   "outputs": [
    {
     "data": {
      "text/plain": [
       "GaussianNB(var_smoothing=0.1)"
      ]
     },
     "execution_count": 280,
     "metadata": {},
     "output_type": "execute_result"
    }
   ],
   "source": [
    "bayes.fit(x_train,y_train)"
   ]
  },
  {
   "cell_type": "code",
   "execution_count": 281,
   "id": "4075d466",
   "metadata": {},
   "outputs": [
    {
     "name": "stdout",
     "output_type": "stream",
     "text": [
      "Elapsed time: 0.13872480392456055 seconds\n"
     ]
    }
   ],
   "source": [
    "start_time = time.time()\n",
    "\n",
    "y_pred = bayes.predict(x_test)\n",
    "\n",
    "end_time = time.time()\n",
    "elapsed_time = end_time - start_time\n",
    "print(f\"Elapsed time: {elapsed_time} seconds\")"
   ]
  },
  {
   "cell_type": "code",
   "execution_count": 282,
   "id": "eab9abe1",
   "metadata": {
    "scrolled": true
   },
   "outputs": [
    {
     "name": "stdout",
     "output_type": "stream",
     "text": [
      "Accuracy Score : 0.88325\n",
      "Precision Score : 0.88325\n",
      "Recall Score : 0.88325\n",
      "F1 Score : 0.8832500000000001\n",
      "Confusion Matrix : \n",
      "[[1876   38    0    0    4   29    2    1    0    0]\n",
      " [ 182 1623   83    0   18    0   15    0    0   90]\n",
      " [   0   45 1340  414   27    0   14   31    0  112]\n",
      " [   0    1  127 1826   42    2    8    0    0   17]\n",
      " [   0   11   50  156 1692   40   19    0    4   18]\n",
      " [   7   16    6    0    2 1981    4    0    6    0]\n",
      " [   0    2   82    8    9    0 1452   92    0  339]\n",
      " [   1    7   21    7   27    0   12 1916    0    0]\n",
      " [   2    8    1    0    2    8    9    0 1949    9]\n",
      " [   1   13    3    0    1    0   19    0   11 2010]]\n"
     ]
    }
   ],
   "source": [
    "print('Accuracy Score : ' + str(accuracy_score(y_test,y_pred)))\n",
    "print('Precision Score : ' + str(precision_score(y_test,y_pred,average='micro')))\n",
    "print('Recall Score : ' + str(recall_score(y_test,y_pred,average='micro')))\n",
    "print('F1 Score : ' + str(f1_score(y_test,y_pred,average='micro')))\n",
    "\n",
    "#Dummy Classifier Confusion matrix\n",
    "print('Confusion Matrix : \\n' + str(confusion_matrix(y_test,y_pred)))"
   ]
  },
  {
   "cell_type": "code",
   "execution_count": 286,
   "id": "07b47f7c",
   "metadata": {},
   "outputs": [
    {
     "ename": "AttributeError",
     "evalue": "'numpy.ndarray' object has no attribute 'uniques'",
     "output_type": "error",
     "traceback": [
      "\u001b[0;31m---------------------------------------------------------------------------\u001b[0m",
      "\u001b[0;31mAttributeError\u001b[0m                            Traceback (most recent call last)",
      "Cell \u001b[0;32mIn[286], line 1\u001b[0m\n\u001b[0;32m----> 1\u001b[0m \u001b[43mY\u001b[49m\u001b[38;5;241;43m.\u001b[39;49m\u001b[43muniques\u001b[49m()\n",
      "\u001b[0;31mAttributeError\u001b[0m: 'numpy.ndarray' object has no attribute 'uniques'"
     ]
    }
   ],
   "source": []
  },
  {
   "cell_type": "code",
   "execution_count": 297,
   "id": "c8298dc2",
   "metadata": {},
   "outputs": [
    {
     "data": {
      "text/plain": [
       "'/Users/radmehr/Desktop/Darsi/01_phd/semester2/Machine Learning/Assignments'"
      ]
     },
     "execution_count": 297,
     "metadata": {},
     "output_type": "execute_result"
    }
   ],
   "source": [
    "pwd"
   ]
  },
  {
   "cell_type": "code",
   "execution_count": 283,
   "id": "31e47bb3",
   "metadata": {},
   "outputs": [],
   "source": [
    "from sklearn.metrics import ConfusionMatrixDisplay"
   ]
  },
  {
   "cell_type": "code",
   "execution_count": 300,
   "id": "e52eb88b",
   "metadata": {},
   "outputs": [
    {
     "data": {
      "image/png": "[encoded data removed]",
      "text/plain": [
       "<Figure size 640x480 with 2 Axes>"
      ]
     },
     "metadata": {},
     "output_type": "display_data"
    }
   ],
   "source": [
    "disp = ConfusionMatrixDisplay.from_estimator(bayes, x_test,  y_test, display_labels=range(10),cmap=plt.cm.Blues,\n",
    "                                      normalize= None)\n",
    "disp.ax_.set_title('Confusion Matrix of Naive Bayes Classifier')\n",
    "plt.savefig(f'Bayes_confusion.tiff',dpi=300)"
   ]
  },
  {
   "cell_type": "markdown",
   "id": "b8c99484",
   "metadata": {},
   "source": [
    "## Grid Search optimization "
   ]
  },
  {
   "cell_type": "code",
   "execution_count": 272,
   "id": "8e2cd96b",
   "metadata": {},
   "outputs": [],
   "source": [
    "param_grid = {'var_smoothing': [1e-06, 1e-05, 1e-04, 1e-03, 1e-02,1e-01,1,10]}"
   ]
  },
  {
   "cell_type": "code",
   "execution_count": 273,
   "id": "111b9891",
   "metadata": {},
   "outputs": [],
   "source": [
    "grid = GridSearchCV(bayes, param_grid, cv=8, scoring='accuracy')"
   ]
  },
  {
   "cell_type": "code",
   "execution_count": 274,
   "id": "b9978541",
   "metadata": {},
   "outputs": [
    {
     "name": "stdout",
     "output_type": "stream",
     "text": [
      "Elapsed time: 4.714603900909424 seconds\n"
     ]
    }
   ],
   "source": [
    "start_time = time.time()\n",
    "\n",
    "grid.fit(x_train,y_train)\n",
    "\n",
    "end_time = time.time()\n",
    "elapsed_time = end_time - start_time\n",
    "print(f\"Elapsed time: {elapsed_time} seconds\")\n"
   ]
  },
  {
   "cell_type": "code",
   "execution_count": 275,
   "id": "e3190117",
   "metadata": {},
   "outputs": [
    {
     "name": "stdout",
     "output_type": "stream",
     "text": [
      "{'var_smoothing': 0.1}\n",
      "0.8808333333333334\n"
     ]
    }
   ],
   "source": [
    "print(grid.best_params_)\n",
    "print(grid.best_score_)"
   ]
  },
  {
   "cell_type": "code",
   "execution_count": 278,
   "id": "29e49cc7",
   "metadata": {},
   "outputs": [
    {
     "name": "stdout",
     "output_type": "stream",
     "text": [
      "0.864 for {'var_smoothing': 1e-06}\n",
      "0.865 for {'var_smoothing': 1e-05}\n",
      "0.867 for {'var_smoothing': 0.0001}\n",
      "0.871 for {'var_smoothing': 0.001}\n",
      "0.876 for {'var_smoothing': 0.01}\n",
      "0.881 for {'var_smoothing': 0.1}\n",
      "0.862 for {'var_smoothing': 1}\n",
      "0.841 for {'var_smoothing': 10}\n"
     ]
    }
   ],
   "source": [
    "results = grid.cv_results_\n",
    "for mean_score, params in zip(results[\"mean_test_score\"], results[\"params\"]):\n",
    "    print(f\"{mean_score:.3f} for {params}\")"
   ]
  },
  {
   "cell_type": "markdown",
   "id": "5c7e59cb",
   "metadata": {},
   "source": [
    "# Parzen Window"
   ]
  },
  {
   "cell_type": "code",
   "execution_count": 362,
   "id": "5c836801",
   "metadata": {},
   "outputs": [
    {
     "name": "stdout",
     "output_type": "stream",
     "text": [
      "Elapsed time: 5.556707143783569 seconds\n"
     ]
    }
   ],
   "source": [
    "parzen = RadiusNeighborsClassifier(radius=8.8)\n",
    "#parzen.fit(x_train,y_train)\n",
    "\n",
    "start_time = time.time()\n",
    "parzen.fit(x_train,y_train)\n",
    "y_pred = parzen.predict(x_test)\n",
    "\n",
    "end_time = time.time()\n",
    "elapsed_time = end_time - start_time\n",
    "print(f\"Elapsed time: {elapsed_time} seconds\")"
   ]
  },
  {
   "cell_type": "code",
   "execution_count": 320,
   "id": "3cf4bf84",
   "metadata": {},
   "outputs": [
    {
     "name": "stdout",
     "output_type": "stream",
     "text": [
      "Accuracy Score : 0.89545\n",
      "Precision Score : 0.89545\n",
      "Recall Score : 0.89545\n",
      "F1 Score : 0.89545\n",
      "Confusion Matrix : \n",
      "[[1925   18    0    0    1    4    0    2    0    0]\n",
      " [ 252 1739    5    0    0    0    7    0    0    8]\n",
      " [   0  152 1465  324    2    0    6   21    0   13]\n",
      " [   0    5  245 1739   29    1    0    2    0    2]\n",
      " [   0   15   95  207 1662    2    7    0    0    2]\n",
      " [  25   12    0    0    0 1934    1    0   49    1]\n",
      " [   1   16   36    0    2    0 1543   94    1  291]\n",
      " [   1    8   25    0    4    0    6 1947    0    0]\n",
      " [   0   16    0    0    0    0    0    0 1970    2]\n",
      " [   1   55    0    0    0    0   12    1    4 1985]]\n"
     ]
    }
   ],
   "source": [
    "print('Accuracy Score : ' + str(accuracy_score(y_test,y_pred)))\n",
    "print('Precision Score : ' + str(precision_score(y_test,y_pred,average='micro')))\n",
    "print('Recall Score : ' + str(recall_score(y_test,y_pred,average='micro')))\n",
    "print('F1 Score : ' + str(f1_score(y_test,y_pred,average='micro')))\n",
    "\n",
    "#Dummy Classifier Confusion matrix\n",
    "print('Confusion Matrix : \\n' + str(confusion_matrix(y_test,y_pred)))"
   ]
  },
  {
   "cell_type": "code",
   "execution_count": 333,
   "id": "784a08c6",
   "metadata": {},
   "outputs": [
    {
     "data": {
      "image/png": "[encoded data removed]",
      "text/plain": [
       "<Figure size 640x480 with 2 Axes>"
      ]
     },
     "metadata": {},
     "output_type": "display_data"
    }
   ],
   "source": [
    "disp = ConfusionMatrixDisplay.from_estimator(parzen, x_test,  y_test, display_labels=range(10),cmap=plt.cm.Blues,\n",
    "                                      normalize= None)\n",
    "disp.ax_.set_title('Confusion Matrix of Parzen Window')\n",
    "plt.savefig(f'parzen_confusion.tiff',dpi=300)"
   ]
  },
  {
   "cell_type": "markdown",
   "id": "c10bed78",
   "metadata": {},
   "source": [
    "## GRID SEARCH"
   ]
  },
  {
   "cell_type": "code",
   "execution_count": 327,
   "id": "2728d582",
   "metadata": {},
   "outputs": [],
   "source": [
    "param_grid = {'radius': [9.5,10, 11, 12,13,14,15,20]}\n",
    "grid = GridSearchCV(parzen, param_grid, cv=8, scoring='accuracy')"
   ]
  },
  {
   "cell_type": "code",
   "execution_count": 328,
   "id": "88d7ffbc",
   "metadata": {},
   "outputs": [
    {
     "name": "stdout",
     "output_type": "stream",
     "text": [
      "Elapsed time: 73.81376910209656 seconds\n"
     ]
    }
   ],
   "source": [
    "start_time = time.time()\n",
    "\n",
    "grid.fit(x_train,y_train)\n",
    "\n",
    "end_time = time.time()\n",
    "elapsed_time = end_time - start_time\n",
    "print(f\"Elapsed time: {elapsed_time} seconds\")"
   ]
  },
  {
   "cell_type": "code",
   "execution_count": 329,
   "id": "1bff9fa1",
   "metadata": {},
   "outputs": [
    {
     "name": "stdout",
     "output_type": "stream",
     "text": [
      "{'radius': 9.5}\n",
      "0.8555333333333334\n"
     ]
    }
   ],
   "source": [
    "print(grid.best_params_)\n",
    "print(grid.best_score_)"
   ]
  },
  {
   "cell_type": "code",
   "execution_count": 331,
   "id": "29bf172a",
   "metadata": {},
   "outputs": [
    {
     "name": "stdout",
     "output_type": "stream",
     "text": [
      "0.856 for {'radius': 9.5}\n",
      "0.828 for {'radius': 10}\n",
      "0.760 for {'radius': 11}\n",
      "0.657 for {'radius': 12}\n",
      "0.439 for {'radius': 13}\n",
      "0.244 for {'radius': 14}\n",
      "0.133 for {'radius': 15}\n",
      "0.103 for {'radius': 20}\n"
     ]
    }
   ],
   "source": [
    "results = grid.cv_results_\n",
    "for mean_score, params in zip(results[\"mean_test_score\"], results[\"params\"]):\n",
    "    print(f\"{mean_score:.3f} for {params}\")"
   ]
  },
  {
   "cell_type": "markdown",
   "id": "d51b3400",
   "metadata": {},
   "source": [
    "# SUPPORT VECTOR MACHINE"
   ]
  },
  {
   "cell_type": "code",
   "execution_count": 215,
   "id": "2ad328ea",
   "metadata": {},
   "outputs": [],
   "source": [
    "from sklearn import svm"
   ]
  },
  {
   "cell_type": "code",
   "execution_count": 363,
   "id": "9c81618f",
   "metadata": {},
   "outputs": [],
   "source": [
    "supp = svm.SVC(C=20)"
   ]
  },
  {
   "cell_type": "code",
   "execution_count": 364,
   "id": "a3721b7a",
   "metadata": {},
   "outputs": [],
   "source": [
    "#supp.fit(x_train,y_train)"
   ]
  },
  {
   "cell_type": "code",
   "execution_count": 365,
   "id": "b67d14d9",
   "metadata": {},
   "outputs": [
    {
     "name": "stdout",
     "output_type": "stream",
     "text": [
      "Elapsed time: 34.585407972335815 seconds\n"
     ]
    }
   ],
   "source": [
    "start_time = time.time()\n",
    "\n",
    "supp.fit(x_train,y_train)\n",
    "y_pred = supp.predict(x_test)\n",
    "\n",
    "end_time = time.time()\n",
    "elapsed_time = end_time - start_time\n",
    "print(f\"Elapsed time: {elapsed_time} seconds\")"
   ]
  },
  {
   "cell_type": "code",
   "execution_count": 366,
   "id": "5289c618",
   "metadata": {},
   "outputs": [
    {
     "name": "stdout",
     "output_type": "stream",
     "text": [
      "Accuracy Score : 0.99235\n",
      "Precision Score : 0.99235\n",
      "Recall Score : 0.99235\n",
      "F1 Score : 0.99235\n",
      "Confusion Matrix : \n",
      "[[1935    8    0    0    1    5    0    1    0    0]\n",
      " [   4 2004    0    0    0    0    1    0    0    2]\n",
      " [   0    2 1964    9    2    0    3    2    0    1]\n",
      " [   0    0   19 1984   18    2    0    0    0    0]\n",
      " [   0    1    5    8 1970    2    3    0    0    1]\n",
      " [   5    0    0    0    2 2009    2    0    4    0]\n",
      " [   1    3    1    0    1    0 1966    0    0   12]\n",
      " [   1    1    1    0    1    0    2 1985    0    0]\n",
      " [   0    1    0    0    0    0    0    0 1986    1]\n",
      " [   0    4    0    0    0    0    9    0    1 2044]]\n"
     ]
    }
   ],
   "source": [
    "print('Accuracy Score : ' + str(accuracy_score(y_test,y_pred)))\n",
    "print('Precision Score : ' + str(precision_score(y_test,y_pred,average='micro')))\n",
    "print('Recall Score : ' + str(recall_score(y_test,y_pred,average='micro')))\n",
    "print('F1 Score : ' + str(f1_score(y_test,y_pred,average='micro')))\n",
    "\n",
    "#Dummy Classifier Confusion matrix\n",
    "print('Confusion Matrix : \\n' + str(confusion_matrix(y_test,y_pred)))"
   ]
  },
  {
   "cell_type": "code",
   "execution_count": 350,
   "id": "810c1fdd",
   "metadata": {},
   "outputs": [
    {
     "data": {
      "image/png": "[encoded data removed]",
      "text/plain": [
       "<Figure size 640x480 with 2 Axes>"
      ]
     },
     "metadata": {},
     "output_type": "display_data"
    }
   ],
   "source": [
    "disp = ConfusionMatrixDisplay.from_estimator(supp, x_test,  y_test, display_labels=range(10),cmap=plt.cm.Blues,\n",
    "                                      normalize= None)\n",
    "disp.ax_.set_title('Confusion Matrix of SVM')\n",
    "plt.savefig(f'SVM.tiff',dpi=300)"
   ]
  },
  {
   "cell_type": "markdown",
   "id": "26bf3754",
   "metadata": {},
   "source": [
    "## GRID SEARCH"
   ]
  },
  {
   "cell_type": "code",
   "execution_count": 229,
   "id": "42d143a1",
   "metadata": {},
   "outputs": [],
   "source": [
    "param_grid = {'C': [0.5,1, 1.5, 2, 2.5, 3, 3.5, 4,5]}\n",
    "grid = GridSearchCV(supp, param_grid, cv=7, scoring='accuracy')"
   ]
  },
  {
   "cell_type": "code",
   "execution_count": 230,
   "id": "c9d388a9",
   "metadata": {},
   "outputs": [
    {
     "name": "stdout",
     "output_type": "stream",
     "text": [
      "Elapsed time: 798.7244982719421 seconds\n"
     ]
    }
   ],
   "source": [
    "start_time = time.time()\n",
    "\n",
    "grid.fit(x_train,y_train)\n",
    "\n",
    "end_time = time.time()\n",
    "elapsed_time = end_time - start_time\n",
    "print(f\"Elapsed time: {elapsed_time} seconds\")"
   ]
  },
  {
   "cell_type": "code",
   "execution_count": 231,
   "id": "94f2023a",
   "metadata": {},
   "outputs": [
    {
     "name": "stdout",
     "output_type": "stream",
     "text": [
      "{'C': 3.5}\n",
      "0.9916667010219545\n"
     ]
    }
   ],
   "source": [
    "print(grid.best_params_)\n",
    "print(grid.best_score_)"
   ]
  },
  {
   "cell_type": "code",
   "execution_count": 233,
   "id": "78c245a0",
   "metadata": {},
   "outputs": [
    {
     "name": "stdout",
     "output_type": "stream",
     "text": [
      "0.9897667032 for {'C': 1}\n",
      "0.9906000121 for {'C': 1.5}\n",
      "0.9908666921 for {'C': 2}\n",
      "0.9913333744 for {'C': 2.5}\n",
      "0.9915666921 for {'C': 3}\n",
      "0.9916667010 for {'C': 3.5}\n",
      "0.9916667010 for {'C': 4}\n"
     ]
    }
   ],
   "source": [
    "results = grid.cv_results_\n",
    "for mean_score, params in zip(results[\"mean_test_score\"], results[\"params\"]):\n",
    "    print(f\"{mean_score:.10f} for {params}\")"
   ]
  },
  {
   "cell_type": "code",
   "execution_count": null,
   "id": "4a708282",
   "metadata": {},
   "outputs": [],
   "source": []
  },
  {
   "cell_type": "code",
   "execution_count": null,
   "id": "d731e993",
   "metadata": {},
   "outputs": [],
   "source": []
  },
  {
   "cell_type": "markdown",
   "id": "501ea1f5",
   "metadata": {},
   "source": [
    "# 4- Constructing the classfier (Object oriented approach)"
   ]
  },
  {
   "cell_type": "code",
   "execution_count": 275,
   "id": "c4b094e9",
   "metadata": {},
   "outputs": [],
   "source": [
    "class KNN:\n",
    "    def __init__(self, k=3):\n",
    "        self.k = k\n",
    "        \n",
    "    def fit(self, X, y):\n",
    "        self.X_train = X\n",
    "        self.y_train = y\n",
    "        \n",
    "    def predict(self, X):\n",
    "        predictions = []\n",
    "        for x in X:\n",
    "            distances = []\n",
    "            for i in range(len(self.X_train)):\n",
    "                distance = np.sqrt(np.sum(np.square(x - self.X_train[i])))\n",
    "                distances.append((distance, self.y_train[i]))\n",
    "            distances.sort()\n",
    "            neighbors = [distances[i][1] for i in range(self.k)]\n",
    "            counts = np.bincount(neighbors)\n",
    "            predictions.append(np.argmax(counts))\n",
    "        return predictions"
   ]
  },
  {
   "cell_type": "code",
   "execution_count": 283,
   "id": "5c11ed41",
   "metadata": {},
   "outputs": [],
   "source": [
    "predictor = KNN(k=5)\n",
    "predictor.fit(x_train[:100],y_train[0:100])"
   ]
  },
  {
   "cell_type": "code",
   "execution_count": 284,
   "id": "a9998188",
   "metadata": {},
   "outputs": [],
   "source": [
    "y_pred = predictor.predict(x_test)"
   ]
  },
  {
   "cell_type": "code",
   "execution_count": 278,
   "id": "996d9c01",
   "metadata": {},
   "outputs": [
    {
     "name": "stdout",
     "output_type": "stream",
     "text": [
      "prediction: 8\n",
      "actual label: 8\n"
     ]
    }
   ],
   "source": [
    "i = 6\n",
    "print(f'prediction: {y_pred[i]}\\nactual label: {y_test[i]}')"
   ]
  },
  {
   "cell_type": "code",
   "execution_count": 285,
   "id": "788899c5",
   "metadata": {},
   "outputs": [
    {
     "name": "stdout",
     "output_type": "stream",
     "text": [
      "Accuracy Score = 0.82735\n"
     ]
    }
   ],
   "source": [
    "from sklearn.metrics import accuracy_score\n",
    "print(f\"Accuracy Score = {accuracy_score(y_test,y_pred)}\")"
   ]
  },
  {
   "cell_type": "code",
   "execution_count": null,
   "id": "bdeb6133",
   "metadata": {},
   "outputs": [],
   "source": []
  },
  {
   "cell_type": "code",
   "execution_count": null,
   "id": "3d4757d3",
   "metadata": {},
   "outputs": [],
   "source": []
  },
  {
   "cell_type": "code",
   "execution_count": null,
   "id": "58072165",
   "metadata": {},
   "outputs": [],
   "source": []
  },
  {
   "cell_type": "code",
   "execution_count": null,
   "id": "7c04a09d",
   "metadata": {},
   "outputs": [],
   "source": []
  },
  {
   "cell_type": "code",
   "execution_count": 11,
   "id": "dd21e08f",
   "metadata": {},
   "outputs": [],
   "source": [
    "def my_dic(dictionary,**kwargs):\n",
    "    for kw in dictionary:\n",
    "        print(kw,dictionary[kw])"
   ]
  },
  {
   "cell_type": "code",
   "execution_count": 12,
   "id": "1fb6e524",
   "metadata": {},
   "outputs": [
    {
     "name": "stdout",
     "output_type": "stream",
     "text": [
      "ali 10\n",
      "asghar 56\n",
      "jack 18\n",
      "zoro 19\n",
      "jackass 30\n"
     ]
    }
   ],
   "source": [
    "my_dic(a)"
   ]
  },
  {
   "cell_type": "code",
   "execution_count": null,
   "id": "17b9bc27",
   "metadata": {},
   "outputs": [],
   "source": []
  },
  {
   "cell_type": "code",
   "execution_count": 1,
   "id": "5022aab6",
   "metadata": {},
   "outputs": [],
   "source": [
    "names = ['ali','asghar','jack','zoro','jackass']\n",
    "ages = [10, 56, 18, 19, 30]"
   ]
  },
  {
   "cell_type": "code",
   "execution_count": 3,
   "id": "8b91c35e",
   "metadata": {},
   "outputs": [],
   "source": [
    "a = dict(zip(names,ages))"
   ]
  },
  {
   "cell_type": "code",
   "execution_count": 4,
   "id": "477252be",
   "metadata": {},
   "outputs": [
    {
     "data": {
      "text/plain": [
       "10"
      ]
     },
     "execution_count": 4,
     "metadata": {},
     "output_type": "execute_result"
    }
   ],
   "source": [
    "a['ali']"
   ]
  },
  {
   "cell_type": "code",
   "execution_count": null,
   "id": "b82039cb",
   "metadata": {},
   "outputs": [],
   "source": []
  }
 ],
 "metadata": {
  "kernelspec": {
   "display_name": "Python 3 (ipykernel)",
   "language": "python",
   "name": "python3"
  },
  "language_info": {
   "codemirror_mode": {
    "name": "ipython",
    "version": 3
   },
   "file_extension": ".py",
   "mimetype": "text/x-python",
   "name": "python",
   "nbconvert_exporter": "python",
   "pygments_lexer": "ipython3",
   "version": "3.9.12"
  }
 },
 "nbformat": 4,
 "nbformat_minor": 5
}
